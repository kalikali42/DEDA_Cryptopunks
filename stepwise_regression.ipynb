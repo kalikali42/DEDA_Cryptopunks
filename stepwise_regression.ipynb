{
  "nbformat": 4,
  "nbformat_minor": 5,
  "metadata": {
    "kernelspec": {
      "display_name": "Python 3",
      "language": "python",
      "name": "python3"
    },
    "language_info": {
      "codemirror_mode": {
        "name": "ipython",
        "version": 3
      },
      "file_extension": ".py",
      "mimetype": "text/x-python",
      "name": "python",
      "nbconvert_exporter": "python",
      "pygments_lexer": "ipython3",
      "version": "3.8.8"
    },
    "colab": {
      "name": "stepwise_regression.ipynb",
      "provenance": [],
      "include_colab_link": true
    }
  },
  "cells": [
    {
      "cell_type": "markdown",
      "metadata": {
        "id": "view-in-github",
        "colab_type": "text"
      },
      "source": [
        "<a href=\"https://colab.research.google.com/github/kalinakalina/DEDA_Cryptopunks/blob/main/stepwise_regression.ipynb\" target=\"_parent\"><img src=\"https://colab.research.google.com/assets/colab-badge.svg\" alt=\"Open In Colab\"/></a>"
      ]
    },
    {
      "cell_type": "markdown",
      "metadata": {
        "id": "R4pxiyj_N2jN"
      },
      "source": [
        "## Install, Imports and Helper Functions"
      ],
      "id": "R4pxiyj_N2jN"
    },
    {
      "cell_type": "code",
      "metadata": {
        "id": "5b5lI8wXM7bF",
        "outputId": "0dff4fa4-d2f0-41d1-fcbc-fb3867869f5b",
        "colab": {
          "base_uri": "https://localhost:8080/"
        }
      },
      "source": [
        "!pip install linearmodels\n",
        "!pip install prince\n",
        "!pip install mca\n",
        "!pip install mlxtend"
      ],
      "id": "5b5lI8wXM7bF",
      "execution_count": 131,
      "outputs": [
        {
          "output_type": "stream",
          "text": [
            "Requirement already satisfied: linearmodels in /usr/local/lib/python3.7/dist-packages (4.24)\n",
            "Requirement already satisfied: scipy>=1.2 in /usr/local/lib/python3.7/dist-packages (from linearmodels) (1.4.1)\n",
            "Requirement already satisfied: numpy>=1.16 in /usr/local/lib/python3.7/dist-packages (from linearmodels) (1.19.5)\n",
            "Requirement already satisfied: Cython>=0.29.21 in /usr/local/lib/python3.7/dist-packages (from linearmodels) (0.29.23)\n",
            "Requirement already satisfied: pandas>=0.24 in /usr/local/lib/python3.7/dist-packages (from linearmodels) (1.1.5)\n",
            "Requirement already satisfied: pyhdfe>=0.1 in /usr/local/lib/python3.7/dist-packages (from linearmodels) (0.1.0)\n",
            "Requirement already satisfied: patsy in /usr/local/lib/python3.7/dist-packages (from linearmodels) (0.5.1)\n",
            "Requirement already satisfied: property-cached>=1.6.3 in /usr/local/lib/python3.7/dist-packages (from linearmodels) (1.6.4)\n",
            "Requirement already satisfied: statsmodels>=0.11 in /usr/local/lib/python3.7/dist-packages (from linearmodels) (0.12.2)\n",
            "Requirement already satisfied: mypy-extensions>=0.4 in /usr/local/lib/python3.7/dist-packages (from linearmodels) (0.4.3)\n",
            "Requirement already satisfied: pytz>=2017.2 in /usr/local/lib/python3.7/dist-packages (from pandas>=0.24->linearmodels) (2018.9)\n",
            "Requirement already satisfied: python-dateutil>=2.7.3 in /usr/local/lib/python3.7/dist-packages (from pandas>=0.24->linearmodels) (2.8.1)\n",
            "Requirement already satisfied: six in /usr/local/lib/python3.7/dist-packages (from patsy->linearmodels) (1.15.0)\n",
            "Requirement already satisfied: prince in /usr/local/lib/python3.7/dist-packages (0.7.1)\n",
            "Requirement already satisfied: numpy>=1.17.1 in /usr/local/lib/python3.7/dist-packages (from prince) (1.19.5)\n",
            "Requirement already satisfied: scipy>=1.3.0 in /usr/local/lib/python3.7/dist-packages (from prince) (1.4.1)\n",
            "Requirement already satisfied: scikit-learn>=0.22.1 in /usr/local/lib/python3.7/dist-packages (from prince) (0.22.2.post1)\n",
            "Requirement already satisfied: pandas>=1.0.3 in /usr/local/lib/python3.7/dist-packages (from prince) (1.1.5)\n",
            "Requirement already satisfied: matplotlib>=3.0.2 in /usr/local/lib/python3.7/dist-packages (from prince) (3.2.2)\n",
            "Requirement already satisfied: joblib>=0.11 in /usr/local/lib/python3.7/dist-packages (from scikit-learn>=0.22.1->prince) (1.0.1)\n",
            "Requirement already satisfied: pytz>=2017.2 in /usr/local/lib/python3.7/dist-packages (from pandas>=1.0.3->prince) (2018.9)\n",
            "Requirement already satisfied: python-dateutil>=2.7.3 in /usr/local/lib/python3.7/dist-packages (from pandas>=1.0.3->prince) (2.8.1)\n",
            "Requirement already satisfied: cycler>=0.10 in /usr/local/lib/python3.7/dist-packages (from matplotlib>=3.0.2->prince) (0.10.0)\n",
            "Requirement already satisfied: kiwisolver>=1.0.1 in /usr/local/lib/python3.7/dist-packages (from matplotlib>=3.0.2->prince) (1.3.1)\n",
            "Requirement already satisfied: pyparsing!=2.0.4,!=2.1.2,!=2.1.6,>=2.0.1 in /usr/local/lib/python3.7/dist-packages (from matplotlib>=3.0.2->prince) (2.4.7)\n",
            "Requirement already satisfied: six>=1.5 in /usr/local/lib/python3.7/dist-packages (from python-dateutil>=2.7.3->pandas>=1.0.3->prince) (1.15.0)\n",
            "Requirement already satisfied: mca in /usr/local/lib/python3.7/dist-packages (1.0.3)\n",
            "Requirement already satisfied: scipy in /usr/local/lib/python3.7/dist-packages (from mca) (1.4.1)\n",
            "Requirement already satisfied: numpy in /usr/local/lib/python3.7/dist-packages (from mca) (1.19.5)\n",
            "Requirement already satisfied: pandas in /usr/local/lib/python3.7/dist-packages (from mca) (1.1.5)\n",
            "Requirement already satisfied: python-dateutil>=2.7.3 in /usr/local/lib/python3.7/dist-packages (from pandas->mca) (2.8.1)\n",
            "Requirement already satisfied: pytz>=2017.2 in /usr/local/lib/python3.7/dist-packages (from pandas->mca) (2018.9)\n",
            "Requirement already satisfied: six>=1.5 in /usr/local/lib/python3.7/dist-packages (from python-dateutil>=2.7.3->pandas->mca) (1.15.0)\n",
            "Requirement already satisfied: mlxtend in /usr/local/lib/python3.7/dist-packages (0.14.0)\n",
            "Requirement already satisfied: scipy>=0.17 in /usr/local/lib/python3.7/dist-packages (from mlxtend) (1.4.1)\n",
            "Requirement already satisfied: numpy>=1.10.4 in /usr/local/lib/python3.7/dist-packages (from mlxtend) (1.19.5)\n",
            "Requirement already satisfied: pandas>=0.17.1 in /usr/local/lib/python3.7/dist-packages (from mlxtend) (1.1.5)\n",
            "Requirement already satisfied: matplotlib>=1.5.1 in /usr/local/lib/python3.7/dist-packages (from mlxtend) (3.2.2)\n",
            "Requirement already satisfied: scikit-learn>=0.18 in /usr/local/lib/python3.7/dist-packages (from mlxtend) (0.22.2.post1)\n",
            "Requirement already satisfied: setuptools in /usr/local/lib/python3.7/dist-packages (from mlxtend) (57.0.0)\n",
            "Requirement already satisfied: pytz>=2017.2 in /usr/local/lib/python3.7/dist-packages (from pandas>=0.17.1->mlxtend) (2018.9)\n",
            "Requirement already satisfied: python-dateutil>=2.7.3 in /usr/local/lib/python3.7/dist-packages (from pandas>=0.17.1->mlxtend) (2.8.1)\n",
            "Requirement already satisfied: cycler>=0.10 in /usr/local/lib/python3.7/dist-packages (from matplotlib>=1.5.1->mlxtend) (0.10.0)\n",
            "Requirement already satisfied: pyparsing!=2.0.4,!=2.1.2,!=2.1.6,>=2.0.1 in /usr/local/lib/python3.7/dist-packages (from matplotlib>=1.5.1->mlxtend) (2.4.7)\n",
            "Requirement already satisfied: kiwisolver>=1.0.1 in /usr/local/lib/python3.7/dist-packages (from matplotlib>=1.5.1->mlxtend) (1.3.1)\n",
            "Requirement already satisfied: joblib>=0.11 in /usr/local/lib/python3.7/dist-packages (from scikit-learn>=0.18->mlxtend) (1.0.1)\n",
            "Requirement already satisfied: six>=1.5 in /usr/local/lib/python3.7/dist-packages (from python-dateutil>=2.7.3->pandas>=0.17.1->mlxtend) (1.15.0)\n"
          ],
          "name": "stdout"
        }
      ]
    },
    {
      "cell_type": "code",
      "metadata": {
        "id": "cf5231d8"
      },
      "source": [
        "import pandas as pd\n",
        "import matplotlib.pyplot as plt\n",
        "\n",
        "from scipy import stats\n",
        "from linearmodels import PooledOLS\n",
        "from linearmodels import PanelOLS\n",
        "from linearmodels import RandomEffects\n",
        "\n",
        "from sklearn import metrics\n",
        "from sklearn.linear_model import LinearRegression\n",
        "from sklearn.linear_model import Lasso\n",
        "from sklearn.linear_model import LassoCV\n",
        "from sklearn.model_selection import train_test_split\n",
        "from sklearn.model_selection import cross_val_score\n",
        "from sklearn.model_selection import RepeatedKFold\n",
        "from sklearn.metrics import mean_squared_error\n",
        "from sklearn.decomposition import PCA\n",
        "\n",
        "import numpy as np\n",
        "from numpy import mean\n",
        "from numpy import std\n",
        "from numpy import absolute\n",
        "from numpy import arange\n",
        "\n",
        "import statsmodels.api as sm\n",
        "from statsmodels.tools.eval_measures import rmse\n",
        "from statsmodels.tools.eval_measures import meanabs\n",
        "\n",
        "from mlxtend.feature_selection import SequentialFeatureSelector as SFS\n",
        "from mlxtend.plotting import plot_sequential_feature_selection as plot_sfs\n",
        "import lightgbm as lgb\n",
        "import xgboost as xgb\n",
        "import prince\n",
        "import mca"
      ],
      "id": "cf5231d8",
      "execution_count": 132,
      "outputs": []
    },
    {
      "cell_type": "code",
      "metadata": {
        "id": "bc7cc336"
      },
      "source": [
        "# Helper Function\n",
        "def fix_df(x):\n",
        "    x['punk_id'] = x['punk_id'].astype('category')\n",
        "    x['type'] = x['type'].astype('category')\n",
        "    x['from'] = x['from'].astype(str)\n",
        "    x['to'] = x['to'].astype(str)\n",
        "    x['date'] = pd.to_datetime(x['date'], format = '%Y.%m.%d')\n",
        "    \n",
        "    x['amount_in_eth'] = x['amount_in_eth'].astype(str)\n",
        "    x['amount_in_eth'] = x['amount_in_eth'].str.replace('Y', '')\n",
        "    x['amount_in_eth'] = x['amount_in_eth'].str.replace('Z', '')\n",
        "    x['amount_in_eth'] = x['amount_in_eth'].str.replace('M', '')\n",
        "    x['amount_in_eth'] = x['amount_in_eth'].str.replace('T', '')\n",
        "    x['amount_in_eth'] = x['amount_in_eth'].str.replace('B', '')\n",
        "    x['amount_in_eth'] = x['amount_in_eth'].replace(',', '', regex=True)\n",
        "    x['amount_in_eth'] = x['amount_in_eth'].astype(float)\n",
        "\n",
        "    x['amount_in_dol'] = x['amount_in_dol'].astype(str)\n",
        "    x['amount_in_dol'] = x['amount_in_dol'].str.replace('Y', '')\n",
        "    x['amount_in_dol'] = x['amount_in_dol'].str.replace('B', '')\n",
        "    x['amount_in_dol'] = x['amount_in_dol'].str.replace('T', '')\n",
        "    x['amount_in_dol'] = x['amount_in_dol'].str.replace('P', '')\n",
        "    x['amount_in_dol'] = x['amount_in_dol'].str.replace('Z', '')\n",
        "    x['amount_in_dol'] = x['amount_in_dol'].replace('<', '', regex=True)\n",
        "    x['amount_in_dol'] = x['amount_in_dol'].replace(',', '', regex=True)\n",
        "    x['amount_in_dol'] = x['amount_in_dol'].astype(float)\n",
        "    \n",
        "    x['amount_in_eth'] = x['amount_in_eth'].fillna(0)\n",
        "    x['amount_in_dol'] = x['amount_in_dol'].fillna(0)\n",
        "\n",
        "    return x\n",
        "\n",
        "def outlier_truncation(x, factor=1.5):\n",
        "    '''\n",
        "    Identifies outlier values based on the inter-quartile range IQR. \n",
        "    Corresponding outliers are truncated and set to a contant value equal to the IQR\n",
        "    times a factor, which, following Tuckey's rule, we set to 1.5 by default\n",
        "    \n",
        "        Parameters:\n",
        "            x (Pandas Series): A data frame column to scan for outliers\n",
        "            factor (float): An outlier is a value this many times the IQR above q3/below q1\n",
        "            \n",
        "        Returns:\n",
        "            Adjusted variable in which outliers are truncated\n",
        "    Source: https://github.com/Humboldt-WI/bads/blob/master/tutorials/4_nb_data_preparation.ipynb\n",
        "    '''\n",
        "    x_new = x.copy()\n",
        "    \n",
        "    # Calculate IQR\n",
        "    IQR = x.quantile(0.75) - x.quantile(0.25) \n",
        "    \n",
        "    # Define upper/lower bound\n",
        "    upper = x.quantile(0.75) + factor*IQR\n",
        "    lower = x.quantile(0.25) - factor*IQR\n",
        "    \n",
        "    # Truncation\n",
        "    x_new[x < lower] = lower\n",
        "    x_new[x > upper] = upper\n",
        "    \n",
        "    return x_new"
      ],
      "id": "bc7cc336",
      "execution_count": 133,
      "outputs": []
    },
    {
      "cell_type": "markdown",
      "metadata": {
        "id": "-kLnKTOg8DMp"
      },
      "source": [
        "# Data Imports"
      ],
      "id": "-kLnKTOg8DMp"
    },
    {
      "cell_type": "code",
      "metadata": {
        "id": "3729e75d",
        "outputId": "f0025ed8-d925-48dd-a157-dd49a4573113",
        "colab": {
          "base_uri": "https://localhost:8080/"
        }
      },
      "source": [
        "# Read Transactions\n",
        "file = 'https://raw.githubusercontent.com/kalinakalina/DEDA_Cryptopunks/main/data/transaction.csv'\n",
        "df_tr = pd.read_csv(file, header = None, index_col = 0)\n",
        "df_tr.columns = ['type', 'from', 'to', 'date', 'punk_id', 'amount_in_eth', 'amount_in_dol']\n",
        "df_tr = df_tr[ ['punk_id'] + [ col for col in df_tr.columns if col != 'punk_id' ] ]\n",
        "df_tr = fix_df(df_tr)\n",
        "print('transaction head')\n",
        "print(df_tr.head())\n",
        "print()\n",
        "\n",
        "# Read Accessoires\n",
        "file2 = 'https://raw.githubusercontent.com/kalinakalina/DEDA_Cryptopunks/main/data/accessories.csv'\n",
        "df_acc = pd.read_csv(file2, header = None, sep='\\n')\n",
        "df_acc = df_acc[0].str.split(',', expand=True)\n",
        "df_acc.drop(0, axis=1, inplace=True)\n",
        "\n",
        "dict={1:'gender', \n",
        "      2:  'acc_1',\n",
        "      3:'acc_2', \n",
        "      4: 'acc_3',\n",
        "      5:'acc_4',\n",
        "      6: 'acc_5',\n",
        "      7:'acc_6',\n",
        "      8:'acc_7'}\n",
        "df_acc.rename(columns=dict,\n",
        "          inplace=True)\n",
        "print('accessoires head')\n",
        "print(df_acc.head())\n",
        "print()\n",
        "\n",
        "#Read Dummy Encoded Accessoires\n",
        "file3 = 'https://raw.githubusercontent.com/kalinakalina/DEDA_Cryptopunks/main/data/accessories_transformed_full.csv'\n",
        "acc = pd.read_csv(file3, index_col = 0)\n",
        "acc['punk_id'] = acc.index\n",
        "acc = acc[ ['punk_id'] + [ col for col in acc.columns if col != 'punk_id' ] ]\n",
        "print('accessoires Dummy Encoded head')\n",
        "print(acc.head())\n",
        "print()"
      ],
      "id": "3729e75d",
      "execution_count": 134,
      "outputs": [
        {
          "output_type": "stream",
          "text": [
            "transaction head\n",
            "  punk_id           type      from  ...       date amount_in_eth  amount_in_dol\n",
            "0                                   ...                                        \n",
            "0       0  Bid Withdrawn  0x983ace  ... 2021-05-10         250.0      1030000.0\n",
            "1       0            Bid  0x983ace  ... 2021-04-11         250.0       537615.0\n",
            "2       0  Bid Withdrawn  0xd7510a  ... 2021-03-03         100.0       160973.0\n",
            "3       0            Bid  0xd7510a  ... 2021-02-20         100.0       188897.0\n",
            "4       0  Bid Withdrawn  natealex  ... 2020-09-16          69.0        25532.0\n",
            "\n",
            "[5 rows x 7 columns]\n",
            "\n",
            "accessoires head\n",
            "   gender             acc_1         acc_2       acc_3 acc_4 acc_5 acc_6 acc_7\n",
            "0  Female  Green Eye Shadow       Earring  Blonde Bob  None  None  None  None\n",
            "1    Male             Smile        Mohawk        None  None  None  None  None\n",
            "2  Female         Wild Hair          None        None  None  None  None  None\n",
            "3    Male         Wild Hair  Nerd Glasses        Pipe  None  None  None  None\n",
            "4    Male        Big Shades     Wild Hair     Earring  Goat  None  None  None\n",
            "\n",
            "accessoires Dummy Encoded head\n",
            "   punk_id  Beanie  Choker  ...  Hot Lipstick  Cigarette  Earring\n",
            "0        0       0       0  ...             0          0        1\n",
            "1        1       0       0  ...             0          0        0\n",
            "2        2       0       0  ...             0          0        0\n",
            "3        3       0       0  ...             0          0        0\n",
            "4        4       0       0  ...             0          0        1\n",
            "\n",
            "[5 rows x 88 columns]\n",
            "\n"
          ],
          "name": "stdout"
        }
      ]
    },
    {
      "cell_type": "code",
      "metadata": {
        "id": "eab25d2d"
      },
      "source": [
        "types = df_acc['gender']\n",
        "types_dummies = pd.get_dummies(types)\n",
        "types_dummies['punk_id'] = types_dummies.index\n",
        "types_dummies = types_dummies[ ['punk_id'] + [ col for col in types_dummies.columns if col != 'punk_id' ] ]"
      ],
      "id": "eab25d2d",
      "execution_count": 135,
      "outputs": []
    },
    {
      "cell_type": "markdown",
      "metadata": {
        "id": "ZvDWM_GUOBc4"
      },
      "source": [
        "# Data Preperation\n",
        "\n",
        "\n"
      ],
      "id": "ZvDWM_GUOBc4"
    },
    {
      "cell_type": "code",
      "metadata": {
        "id": "8GRcRRg0OKuF"
      },
      "source": [
        "#Average Sale Price for all Punks\n",
        "sales = df_tr[df_tr['type'].str.contains(\"Sold\")].reset_index(drop=True)\n",
        "sales = sales.drop(['from', 'to', 'type', 'amount_in_eth'], axis=1)\n",
        "sales = sales.groupby(['punk_id'])['amount_in_dol'].mean().reset_index()\n",
        "sales = sales.fillna(0)\n",
        "print(sales.info())\n",
        "\n",
        "## Join accessoires and prices\n",
        "df = pd.merge(sales, types_dummies, on=\"punk_id\", how='left')\n",
        "df = pd.merge(df, acc, on=\"punk_id\", how='left')\n",
        "\n",
        "df = df.set_index(['punk_id'])\n",
        "df = df.fillna(0)\n",
        "print(df.head())\n",
        "\n",
        "y = df['amount_in_dol']\n",
        "y = y.round(decimals=-2)\n",
        "\n",
        "X = df.iloc[:,1:]\n",
        "X = X.astype(int)\n",
        "\n",
        "X = sm.add_constant(X)\n",
        "\n",
        "X_train, X_test, y_train, y_test = train_test_split(X, y, test_size=0.3, random_state=0)"
      ],
      "id": "8GRcRRg0OKuF",
      "execution_count": null,
      "outputs": []
    },
    {
      "cell_type": "code",
      "metadata": {
        "id": "E8eWjWgl9CVz",
        "outputId": "2d05b55d-f973-47fe-bbac-e3cb7f970d2a",
        "colab": {
          "base_uri": "https://localhost:8080/"
        }
      },
      "source": [
        "#Average Sale Price Without Punks that have 0 as average price (unsold)\n",
        "sales_na = df_tr[df_tr['type'].str.contains(\"Sold\")].reset_index(drop=True)\n",
        "sales_na = sales_na.drop(['from', 'to', 'type', 'amount_in_eth'], axis=1)\n",
        "sales_na = sales_na.groupby(['punk_id'])['amount_in_dol'].mean().reset_index()\n",
        "sales_na.dropna(axis = 0, how='any', inplace=True)\n",
        "\n",
        "df_na = pd.merge(sales_na, types_dummies, on=\"punk_id\", how='left')\n",
        "df_na= pd.merge(df_na, acc, on=\"punk_id\", how='left')\n",
        "df_na = df_na.set_index(['punk_id'])\n",
        "df_na.fillna(0, inplace=True)\n",
        "\n",
        "y_na = df_na['amount_in_dol']\n",
        "y_na = y_na.round(decimals=-2)\n",
        "\n",
        "X_na = df_na.iloc[:,1:]\n",
        "X_na = X_na.astype(int)\n",
        "X_na = sm.add_constant(X_na)\n",
        "\n",
        "X_na_train, X_na_test, y_na_train, y_na_test = train_test_split(X_na, y_na, test_size=0.3, random_state=0)"
      ],
      "id": "E8eWjWgl9CVz",
      "execution_count": 188,
      "outputs": [
        {
          "output_type": "stream",
          "text": [
            "<bound method NDFrame.head of          amount_in_dol  Alien  Ape  ...  Hot Lipstick  Cigarette  Earring\n",
            "punk_id                             ...                                  \n",
            "0          1176.000000      0    0  ...           0.0        0.0      1.0\n",
            "1         13855.666667      0    0  ...           0.0        0.0      0.0\n",
            "14          256.666667      0    0  ...           1.0        0.0      0.0\n",
            "33          105.000000      0    0  ...           0.0        0.0      0.0\n",
            "53        34707.500000      0    0  ...           0.0        0.0      0.0\n",
            "...                ...    ...  ...  ...           ...        ...      ...\n",
            "9980         70.000000      0    0  ...           0.0        1.0      0.0\n",
            "9989        140.000000      0    0  ...           1.0        1.0      0.0\n",
            "9990      44981.000000      0    0  ...           0.0        0.0      0.0\n",
            "9997      95416.000000      0    0  ...           0.0        0.0      0.0\n",
            "9998      35334.500000      0    0  ...           0.0        0.0      0.0\n",
            "\n",
            "[5591 rows x 93 columns]>\n"
          ],
          "name": "stdout"
        }
      ]
    },
    {
      "cell_type": "markdown",
      "metadata": {
        "id": "8aehazMU21Ho"
      },
      "source": [
        "# Linear Regression including all data\n",
        "Trained and tested on data that only non sales that average at 0."
      ],
      "id": "8aehazMU21Ho"
    },
    {
      "cell_type": "code",
      "metadata": {
        "id": "nq0jms6ByCcQ",
        "outputId": "392411c7-9baa-4686-a16e-dd6fd039020d",
        "colab": {
          "base_uri": "https://localhost:8080/"
        }
      },
      "source": [
        "lin_model = LinearRegression()\n",
        "lin_model.fit(X_train, y_train)\n",
        "lin_y_pred = lin_model.predict(X_test)\n",
        "\n",
        "print('Result for Linear Regression \\n')\n",
        "print('Test R^2: ', lin_model.score(X_train, y_train))\n",
        "\n",
        "print('Adjusted Rsquared Train: ', (1 - (1-lin_model.score(X_train, y_train))*(len(y_train)-1)/(len(y_train)-X_train.shape[1]-1)).round(decimals=3))\n",
        "print('Test R^2: ', lin_model.score(X_test, y_test))\n",
        "print('Adjusted Rsquared Test: ', (1 - (1-lin_model.score(X_test, y_test))*(len(y_test)-1)/(len(y_test)-X_test.shape[1]-1)).round(decimals=3))\n",
        "print('Mean Absolute Error:', metrics.mean_absolute_error(y_test, lin_y_pred).round(decimals=3))\n",
        "print('Mean Squared Error:', metrics.mean_squared_error(y_test, lin_y_pred).round(decimals=3))\n",
        "print('Root Mean Squared Error:', np.sqrt(metrics.mean_squared_error(y_test, lin_y_pred)).round(decimals=3))"
      ],
      "id": "nq0jms6ByCcQ",
      "execution_count": 213,
      "outputs": [
        {
          "output_type": "stream",
          "text": [
            "Result for Linear Regression \n",
            "\n",
            "Test R^2:  0.13346808908898922\n",
            "Adjusted Rsquared Train:  0.122\n",
            "Test R^2:  0.20846640755237855\n",
            "Adjusted Rsquared Test:  0.183\n",
            "Mean Absolute Error: 21521.66\n",
            "Mean Squared Error: 4526352654.587\n",
            "Root Mean Squared Error: 67278.174\n"
          ],
          "name": "stdout"
        }
      ]
    },
    {
      "cell_type": "code",
      "metadata": {
        "id": "PT9mu763Gxns"
      },
      "source": [
        "regressor = sm.OLS(y_train, X_train).fit()\n",
        "y_pred = regressor.predict(X_test)\n",
        "print('Mean Absolute Error:', meanabs(y_test, y_pred))\n",
        "print('Root Mean Squared Error:', rmse(y_test, y_pred))\n",
        "print()\n",
        "print(regressor.summary())"
      ],
      "id": "PT9mu763Gxns",
      "execution_count": null,
      "outputs": []
    },
    {
      "cell_type": "code",
      "metadata": {
        "id": "aHRsxfosHHZb",
        "outputId": "aa698496-5bff-42c3-d836-bda38539a5f9",
        "colab": {
          "base_uri": "https://localhost:8080/"
        }
      },
      "source": [
        "tmp = (regressor.pvalues <= 0.05)[1:]\n",
        "tmp = pd.DataFrame(tmp)\n",
        "tmp.reset_index(level=0, inplace=True)\n",
        "tmp.rename(columns={0:'high_sig', 'index': 'attr'}, inplace=True )\n",
        "sigf = tmp.loc[tmp['high_sig'] == True, 'attr']\n",
        "print('Coefficients OLS with high significanz \\n', sigf)"
      ],
      "id": "aHRsxfosHHZb",
      "execution_count": 216,
      "outputs": [
        {
          "output_type": "stream",
          "text": [
            "Coefficients OLS \n",
            " 0              Ape\n",
            "1           Female\n",
            "3           Zombie\n",
            "4           Beanie\n",
            "6     Pilot Helmet\n",
            "8      Orange Side\n",
            "38           Smile\n",
            "39     Cap Forward\n",
            "50      3D Glasses\n",
            "61            Pipe\n",
            "64    Small Shades\n",
            "Name: attr, dtype: object\n"
          ],
          "name": "stdout"
        }
      ]
    },
    {
      "cell_type": "markdown",
      "metadata": {
        "id": "V-J92wGP-gS6"
      },
      "source": [
        "# Linear Regression without avg 0 Sales"
      ],
      "id": "V-J92wGP-gS6"
    },
    {
      "cell_type": "code",
      "metadata": {
        "id": "m_I7zq5k-jhy",
        "outputId": "12a76d81-5590-48cb-94c2-3572561d1f22",
        "colab": {
          "base_uri": "https://localhost:8080/"
        }
      },
      "source": [
        "lin_model_na = LinearRegression()\n",
        "lin_model_na.fit(X_na_train, y_na_train)\n",
        "lin_y_pred_na = lin_model_na.predict(X_na_test)\n",
        "\n",
        "print('Result for Linear Regression \\n')\n",
        "print('Adjusted Rsquared Train: ', (1 - (1-lin_model.score(X_na_train, y_na_train))*(len(y_na_train)-1)/(len(y_na_train)-X_na_train.shape[1]-1)).round(decimals=3))\n",
        "print('Test R^2: ', lin_model.score(X_na_test, y_na_test).round(decimals=3))\n",
        "print('Adjusted Rsquared Test: ', (1 - (1-lin_model.score(X_na_test, y_na_test))*(len(y_na_test)-1)/(len(y_na_test)-X_na_test.shape[1]-1)).round(decimals=3))\n",
        "print('Mean Absolute Error:', metrics.mean_absolute_error(y_na_test, lin_y_pred_na).round(decimals=3))\n",
        "print('Mean Squared Error:', metrics.mean_squared_error(y_na_test, lin_y_pred_na).round(decimals=3))\n",
        "print('Root Mean Squared Error:', np.sqrt(metrics.mean_squared_error(y_na_test, lin_y_pred_na)).round(decimals=3))"
      ],
      "id": "m_I7zq5k-jhy",
      "execution_count": 199,
      "outputs": [
        {
          "output_type": "stream",
          "text": [
            "Result for Linear Regression \n",
            "\n",
            "Adjusted Rsquared Train:  0.192\n",
            "Test R^2:  0.245\n",
            "Adjusted Rsquared Test:  0.201\n",
            "Mean Absolute Error: 29382.515\n",
            "Mean Squared Error: 7610172011.909\n",
            "Root Mean Squared Error: 87236.3\n"
          ],
          "name": "stdout"
        }
      ]
    },
    {
      "cell_type": "markdown",
      "metadata": {
        "id": "6db6f3cf"
      },
      "source": [
        "# Linear Regression with Lasso Regularization"
      ],
      "id": "6db6f3cf"
    },
    {
      "cell_type": "code",
      "metadata": {
        "id": "7b0eb75d",
        "outputId": "abdd63a7-95ea-4244-a04e-67269d540e44",
        "colab": {
          "base_uri": "https://localhost:8080/"
        }
      },
      "source": [
        "opt_model = Lasso(alpha=0.84)\n",
        "opt_model.fit(X_train, y_train)\n",
        "lasso_y_pred = opt_model.predict(X_test)\n",
        "\n",
        "print('Result for LASSO \\n')\n",
        "print('Adjusted Rsquared Train: ', (1 - (1-opt_model.score(X_train, y_train))*(len(y_train)-1)/(len(y_train)-X_train.shape[1]-1)).round(decimals=3))\n",
        "print('Test R^2: ', opt_model.score(X_test, y_test))\n",
        "print('Adjusted Rsquared Test: ', (1 - (1-opt_model.score(X_test, y_test))*(len(y_test)-1)/(len(y_test)-X_test.shape[1]-1)).round(decimals=3))\n",
        "print('Mean Absolute Error:', metrics.mean_absolute_error(y_test, lasso_y_pred).round(decimals=3))\n",
        "print('Mean Squared Error:', metrics.mean_squared_error(y_test, lasso_y_pred).round(decimals=3))\n",
        "print('Root Mean Squared Error:', np.sqrt(metrics.mean_squared_error(y_test, lasso_y_pred)).round(decimals=3))\n",
        "\n",
        "opt_model_na = Lasso(alpha=0.84)\n",
        "opt_model_na.fit(X_na_train, y_na_train)\n",
        "lasso_y_pred_na = opt_model_na.predict(X_na_test)\n",
        "print()\n",
        "print('Result for LASSO without avg 0 sales \\n')\n",
        "print('Adjusted Rsquared Train: ', (1 - (1-opt_model_na.score(X_na_train, y_na_train))*(len(y_na_train)-1)/(len(y_na_train)-X_na_train.shape[1]-1)).round(decimals=3))\n",
        "print('Test R^2: ', opt_model_na.score(X_na_test, y_na_test).round(decimals=3))\n",
        "print('Adjusted Rsquared Test: ', (1 - (1-opt_model_na.score(X_na_test, y_na_test))*(len(y_na_test)-1)/(len(y_na_test)-X_na_test.shape[1]-1)).round(decimals=3))\n",
        "print('Mean Absolute Error:', metrics.mean_absolute_error(y_na_test, lasso_y_pred_na).round(decimals=3))\n",
        "print('Mean Squared Error:', metrics.mean_squared_error(y_na_test, lasso_y_pred_na).round(decimals=3))\n",
        "print('Root Mean Squared Error:', np.sqrt(metrics.mean_squared_error(y_na_test, lasso_y_pred_na)).round(decimals=3))"
      ],
      "id": "7b0eb75d",
      "execution_count": 212,
      "outputs": [
        {
          "output_type": "stream",
          "text": [
            "Result for LASSO \n",
            "\n",
            "Adjusted Rsquared Train:  0.122\n",
            "Test R^2:  0.20821616317687097\n",
            "Adjusted Rsquared Test:  0.183\n",
            "Mean Absolute Error: 21522.693\n",
            "Mean Squared Error: 4527783666.87\n",
            "Root Mean Squared Error: 67288.808\n",
            "\n",
            "Result for LASSO without avg 0 sales \n",
            "\n",
            "Adjusted Rsquared Train:  0.245\n",
            "Test R^2:  0.236\n",
            "Adjusted Rsquared Test:  0.191\n",
            "Mean Absolute Error: 29385.167\n",
            "Mean Squared Error: 7608780483.564\n",
            "Root Mean Squared Error: 87228.324\n"
          ],
          "name": "stdout"
        }
      ]
    },
    {
      "cell_type": "code",
      "metadata": {
        "id": "7b707aa5",
        "outputId": "3e787662-9194-4002-a1e0-4134385ab16e",
        "colab": {
          "base_uri": "https://localhost:8080/"
        }
      },
      "source": [
        "coeff_df = pd.DataFrame(opt_model.coef_, X.columns, columns=['Coefficient'])\n",
        "coeff_df = coeff_df.sort_values(by=['Coefficient'], ascending=False)\n",
        "print('Coefficients LASSO \\n', coeff_df)"
      ],
      "id": "7b707aa5",
      "execution_count": 215,
      "outputs": [
        {
          "output_type": "stream",
          "text": [
            "Coefficients OLS\n",
            "                 Coefficient\n",
            "Alien         573300.159005\n",
            "Zombie         78677.322847\n",
            "Ape            68579.642534\n",
            "Orange Side    34167.047925\n",
            "Pilot Helmet   31169.136987\n",
            "...                     ...\n",
            "Mohawk         -5682.013011\n",
            "Police Cap     -6503.918895\n",
            "Male           -6513.519322\n",
            "Peak Spike     -6694.475288\n",
            "Tassle Hat     -7693.863660\n",
            "\n",
            "[92 rows x 1 columns]\n"
          ],
          "name": "stdout"
        }
      ]
    },
    {
      "cell_type": "markdown",
      "metadata": {
        "id": "KeK-t5jNRNhX"
      },
      "source": [
        "# Step Wise Regression"
      ],
      "id": "KeK-t5jNRNhX"
    },
    {
      "cell_type": "code",
      "metadata": {
        "id": "yJ6wP57LUlig",
        "outputId": "d3848a74-6fb1-475f-b48e-4600cc78409f",
        "colab": {
          "base_uri": "https://localhost:8080/",
          "height": 349
        }
      },
      "source": [
        "sfs = SFS(LinearRegression(),\n",
        "           forward=True, \n",
        "          k_features='best',\n",
        "           floating=False, \n",
        "           scoring='r2',\n",
        "           cv=3)\n",
        "\n",
        "sfs = sfs.fit(X_train, y_train)\n",
        "print('best combination (r2: %.3f): %s\\n' % (sfs.k_score_, sfs.k_feature_names_))\n",
        "fig1 = plot_sfs(sfs.get_metric_dict(), kind='std_err')\n",
        "plt.title('Sequential Forward Selection with best number of features (w. StdDev)')\n",
        "plt.grid()\n",
        "plt.show()\n",
        "# sfs.subsets_"
      ],
      "id": "yJ6wP57LUlig",
      "execution_count": 226,
      "outputs": [
        {
          "output_type": "stream",
          "text": [
            "best combination (r2: 0.020): ('Zombie', 'Beanie', 'Choker', 'Pilot Helmet', 'Buck Teeth', 'Pigtails', 'Pink With Hat', 'Blonde Short', 'Wild Blonde', 'Blonde Bob', 'Clown Hair Green', 'Dark Hair', 'Purple Hair', 'Tassle Hat', 'Police Cap', 'Smile', 'Hoodie', 'Purple Eye Shadow', 'Handlebars', 'Blue Eye Shadow', '3D Glasses', 'Luxurious Beard', 'Normal Beard Black', 'Muttonchops', 'Peak Spike', 'Clown Eyes Green', 'Mohawk', 'Mohawk Thin', 'Frumpy Hair', 'Shadow Beard', 'Nerd Glasses', 'Cigarette', 'Earring')\n",
            "\n"
          ],
          "name": "stdout"
        },
        {
          "output_type": "display_data",
          "data": {
            "image/png": "[encoded data removed]",
            "text/plain": [
              "<Figure size 432x288 with 1 Axes>"
            ]
          },
          "metadata": {
            "tags": [],
            "needs_background": "light"
          }
        }
      ]
    },
    {
      "cell_type": "code",
      "metadata": {
        "id": "llCWUaIp0weM"
      },
      "source": [
        ""
      ],
      "id": "llCWUaIp0weM",
      "execution_count": null,
      "outputs": []
    },
    {
      "cell_type": "code",
      "metadata": {
        "id": "Uu8KqXnw3USn",
        "outputId": "16d7d33c-127c-4700-e052-05ecc1c672fe",
        "colab": {
          "base_uri": "https://localhost:8080/",
          "height": 1000
        }
      },
      "source": [
        "#10 features\n",
        "sfs2 = SFS(LinearRegression(),\n",
        "           forward=True, \n",
        "          k_features=10,\n",
        "           floating=False, \n",
        "           scoring='r2',\n",
        "           cv=3)\n",
        "\n",
        "sfs2 = sfs2.fit(X_na_train, y_na_train)\n",
        "print('best combination (r2: %.3f): %s\\n' % (sfs2.k_score_, sfs2.k_feature_names_))\n",
        "\n",
        "fig2 = plot_sfs(sfs2.get_metric_dict(), kind='std_err')\n",
        "\n",
        "\n",
        "plt.title('Sequential Forward Selection with 10 Features (w. StdDev)')\n",
        "plt.grid()\n",
        "plt.show()\n",
        "\n",
        "# 20 features\n",
        "sfsback_20= SFS(LinearRegression(),\n",
        "           forward=True, \n",
        "          k_features=20,\n",
        "           floating=False, \n",
        "           scoring='r2',\n",
        "           cv=3)\n",
        "\n",
        "sfsbackfit_20 = sfsback_20.fit(X_na_train, y_na_train)\n",
        "print('best combination (r2: %.3f): %s\\n' % (sfsbackfit_20.k_score_, sfsbackfit_20.k_feature_names_))\n",
        "fig_20 = plot_sfs(sfsbackfit_20.get_metric_dict(), kind='std_err')\n",
        "plt.title('Sequential Forward Selection with 20 features (w. StdDev)')\n",
        "plt.grid()\n",
        "plt.show()\n",
        "\n",
        "# 30 features\n",
        "sfsback = SFS(LinearRegression(),\n",
        "           forward=True, \n",
        "          k_features=30,\n",
        "           floating=False, \n",
        "           scoring='r2',\n",
        "           cv=3)\n",
        "\n",
        "sfsbackfit = sfsback.fit(X_na_train, y_na_train)\n",
        "print('best combination (r2: %.3f): %s\\n' % (sfsbackfit.k_score_, sfsbackfit.k_feature_names_))\n",
        "\n",
        "fig2 = plot_sfs(sfsbackfit.get_metric_dict(), kind='std_err')\n",
        "plt.title('Sequential Forward Selection with 30 features (w. StdDev)')\n",
        "plt.grid()\n",
        "plt.show()\n",
        "\n",
        "# 60 features\n",
        "sfsback = SFS(LinearRegression(),\n",
        "           forward=True, \n",
        "          k_features=60,\n",
        "           floating=False, \n",
        "           scoring='r2',\n",
        "           cv=3)\n",
        "\n",
        "sfs = sfs.fit(X_na_train, y_na_train)\n",
        "print('best combination (r2: %.3f): %s\\n' % (sfsbackfit.k_score_, sfsbackfit.k_feature_names_))\n",
        "fig2 = plot_sfs(sfsbackfit.get_metric_dict(), kind='std_err')\n",
        "plt.title('Sequential Forward Selection with 60 features (w. StdDev)')\n",
        "plt.grid()\n",
        "plt.show()"
      ],
      "id": "Uu8KqXnw3USn",
      "execution_count": 225,
      "outputs": [
        {
          "output_type": "stream",
          "text": [
            "best combination (r2: 0.088): ('Male', 'Zombie', 'Orange Side', 'Pigtails', 'Top Hat', 'Wild Blonde', 'Smile', 'Hoodie', '3D Glasses', 'Knitted Cap')\n",
            "\n"
          ],
          "name": "stdout"
        },
        {
          "output_type": "display_data",
          "data": {
            "image/png": "[encoded data removed]",
            "text/plain": [
              "<Figure size 432x288 with 1 Axes>"
            ]
          },
          "metadata": {
            "tags": [],
            "needs_background": "light"
          }
        },
        {
          "output_type": "stream",
          "text": [
            "best combination (r2: 0.093): ('Male', 'Zombie', 'Orange Side', 'Buck Teeth', 'Pigtails', 'Pink With Hat', 'Top Hat', 'Cowboy Hat', 'Wild Blonde', 'Purple Hair', 'Smile', 'Hoodie', 'Blue Eye Shadow', '3D Glasses', 'Headband', 'Knitted Cap', 'Stringy Hair', 'Shadow Beard', 'Horned Rim Glasses', 'Black Lipstick')\n",
            "\n"
          ],
          "name": "stdout"
        },
        {
          "output_type": "display_data",
          "data": {
            "image/png": "[encoded data removed]",
            "text/plain": [
              "<Figure size 432x288 with 1 Axes>"
            ]
          },
          "metadata": {
            "tags": [],
            "needs_background": "light"
          }
        },
        {
          "output_type": "stream",
          "text": [
            "best combination (r2: 0.095): ('Male', 'Zombie', 'Orange Side', 'Buck Teeth', 'Pigtails', 'Pink With Hat', 'Top Hat', 'Cowboy Hat', 'Wild Blonde', 'Clown Hair Green', 'Straight Hair', 'Silver Chain', 'Purple Hair', 'Medical Mask', 'Police Cap', 'Clown Nose', 'Smile', 'Hoodie', 'Purple Eye Shadow', 'Blue Eye Shadow', '3D Glasses', 'Shaved Head', 'Headband', 'Knitted Cap', 'Mohawk', 'Stringy Hair', 'Shadow Beard', 'Horned Rim Glasses', 'Black Lipstick', 'Mole')\n",
            "\n"
          ],
          "name": "stdout"
        },
        {
          "output_type": "display_data",
          "data": {
            "image/png": "[encoded data removed]",
            "text/plain": [
              "<Figure size 432x288 with 1 Axes>"
            ]
          },
          "metadata": {
            "tags": [],
            "needs_background": "light"
          }
        },
        {
          "output_type": "stream",
          "text": [
            "best combination (r2: 0.095): ('Male', 'Zombie', 'Orange Side', 'Buck Teeth', 'Pigtails', 'Pink With Hat', 'Top Hat', 'Cowboy Hat', 'Wild Blonde', 'Clown Hair Green', 'Straight Hair', 'Silver Chain', 'Purple Hair', 'Medical Mask', 'Police Cap', 'Clown Nose', 'Smile', 'Hoodie', 'Purple Eye Shadow', 'Blue Eye Shadow', '3D Glasses', 'Shaved Head', 'Headband', 'Knitted Cap', 'Mohawk', 'Stringy Hair', 'Shadow Beard', 'Horned Rim Glasses', 'Black Lipstick', 'Mole')\n",
            "\n"
          ],
          "name": "stdout"
        },
        {
          "output_type": "display_data",
          "data": {
            "image/png": "[encoded data removed]",
            "text/plain": [
              "<Figure size 432x288 with 1 Axes>"
            ]
          },
          "metadata": {
            "tags": [],
            "needs_background": "light"
          }
        }
      ]
    },
    {
      "cell_type": "code",
      "metadata": {
        "id": "8nkKKQUcNMMt",
        "outputId": "dd63d843-cdc1-4a20-a3f4-9117147b7463",
        "colab": {
          "base_uri": "https://localhost:8080/",
          "height": 366
        }
      },
      "source": [
        "# Picture Export\n",
        "print('best combination (r2: %.3f): %s\\n' % (sfsbackfit_20.k_score_, sfsbackfit_20.k_feature_names_))\n",
        "fig_20 = plot_sfs(sfsbackfit_20.get_metric_dict(), kind='std_err')\n",
        "plt.title('Sequential Forward Selection with 20 features (w. StdDev)')\n",
        "plt.grid()\n",
        "plt.show()\n",
        "plt.savefig('foward_selection')"
      ],
      "id": "8nkKKQUcNMMt",
      "execution_count": 222,
      "outputs": [
        {
          "output_type": "stream",
          "text": [
            "best combination (r2: 0.093): ('Male', 'Zombie', 'Orange Side', 'Buck Teeth', 'Pigtails', 'Pink With Hat', 'Top Hat', 'Cowboy Hat', 'Wild Blonde', 'Purple Hair', 'Smile', 'Hoodie', 'Blue Eye Shadow', '3D Glasses', 'Headband', 'Knitted Cap', 'Stringy Hair', 'Shadow Beard', 'Horned Rim Glasses', 'Black Lipstick')\n",
            "\n"
          ],
          "name": "stdout"
        },
        {
          "output_type": "display_data",
          "data": {
            "image/png": "[encoded data removed]",
            "text/plain": [
              "<Figure size 432x288 with 1 Axes>"
            ]
          },
          "metadata": {
            "tags": [],
            "needs_background": "light"
          }
        },
        {
          "output_type": "display_data",
          "data": {
            "text/plain": [
              "<Figure size 432x288 with 0 Axes>"
            ]
          },
          "metadata": {
            "tags": []
          }
        }
      ]
    },
    {
      "cell_type": "markdown",
      "metadata": {
        "id": "mAJjthLA2rR8"
      },
      "source": [
        "# LGBM Regessor Gradient Boosting\n",
        "Trained an testes on data that only has non null sales"
      ],
      "id": "mAJjthLA2rR8"
    },
    {
      "cell_type": "code",
      "metadata": {
        "id": "UCDxxXKz1R7h",
        "outputId": "03a56222-d51f-47ff-c4e7-7f2690a40f29",
        "colab": {
          "base_uri": "https://localhost:8080/"
        }
      },
      "source": [
        "lgb_model = lgb.LGBMRegressor(\n",
        "    boosting_type= 'gbdt', \n",
        "    num_leaves=5, \n",
        "    n_estimators=300,\n",
        "    reg_lambda =1.0\n",
        ")\n",
        "lgb_model.fit(X_train, y_train)\n",
        "lgb_y_pred = lgb_model.predict(X_test)\n",
        "\n",
        "print('Result for LGB \\n')\n",
        "print('Test R^2: ', lgb_model.score(X_test, y_test))\n",
        "print('Adjusted Rsquared Train: {}.'.format(1 - (1-lgb_model.score(X_train, y_train))*(len(y_train)-1)/(len(y_train)-X_train.shape[1]-1)))\n",
        "print('Adjusted Rsquared Test: {}.'.format(1 - (1-lgb_model.score(X_test, y_test))*(len(y_test)-1)/(len(y_test)-X_test.shape[1]-1)))\n",
        "print('Mean Absolute Error:', metrics.mean_absolute_error(y_test, lgb_y_pred))\n",
        "print('Mean Squared Error:', metrics.mean_squared_error(y_test, lgb_y_pred))\n",
        "print('Root Mean Squared Error:', np.sqrt(metrics.mean_squared_error(y_test, lgb_y_pred)))"
      ],
      "id": "UCDxxXKz1R7h",
      "execution_count": 178,
      "outputs": [
        {
          "output_type": "stream",
          "text": [
            "Result for LGB \n",
            "\n",
            "Test R^2:  -0.009457893714851062\n",
            "Adjusted Rsquared Train: 0.2748290312751238.\n",
            "Adjusted Rsquared Test: -0.04176332527558091.\n",
            "Mean Absolute Error: 22288.1522470252\n",
            "Mean Squared Error: 6101214466.238349\n",
            "Root Mean Squared Error: 78110.27119552427\n"
          ],
          "name": "stdout"
        }
      ]
    },
    {
      "cell_type": "markdown",
      "metadata": {
        "id": "hZQUZxcoUysA"
      },
      "source": [
        "# Linear Regression w/o 0 and with outlier truncation"
      ],
      "id": "hZQUZxcoUysA"
    },
    {
      "cell_type": "code",
      "metadata": {
        "id": "h6KJjIL5U7hm"
      },
      "source": [
        "sales = df_tr[df_tr['type'].str.contains(\"Sold\")].reset_index(drop=True)\n",
        "sales = sales.drop(['from', 'to', 'type', 'amount_in_eth'], axis=1)\n",
        "sales = sales.groupby(['punk_id'])['amount_in_dol'].mean().reset_index()\n",
        "sales.dropna(axis = 0, how='any', inplace=True)\n",
        "sales.head()\n"
      ],
      "id": "h6KJjIL5U7hm",
      "execution_count": null,
      "outputs": []
    },
    {
      "cell_type": "code",
      "metadata": {
        "id": "N_B1zc0kVMC5"
      },
      "source": [
        "sales.boxplot()"
      ],
      "id": "N_B1zc0kVMC5",
      "execution_count": null,
      "outputs": []
    },
    {
      "cell_type": "code",
      "metadata": {
        "id": "LZkgFm2aYIdS"
      },
      "source": [
        "sales.amount_in_dol = outlier_truncation(sales.amount_in_dol)\n",
        "sales.boxplot()"
      ],
      "id": "LZkgFm2aYIdS",
      "execution_count": null,
      "outputs": []
    },
    {
      "cell_type": "code",
      "metadata": {
        "id": "z4Vtulc7VEPi"
      },
      "source": [
        "## Join accessoires and prices\n",
        "df_na = pd.merge(sales, types_dummies, on=\"punk_id\", how='left')\n",
        "df_na= pd.merge(df_na, acc, on=\"punk_id\", how='left')\n",
        "\n",
        "df_na = df_na.set_index(['punk_id'])\n",
        "df_na.fillna(0, inplace=True)"
      ],
      "id": "z4Vtulc7VEPi",
      "execution_count": null,
      "outputs": []
    },
    {
      "cell_type": "code",
      "metadata": {
        "id": "QplkgvyWUxyh"
      },
      "source": [
        "y = df_na['amount_in_dol']\n",
        "y = y.round(decimals=-2)\n",
        "\n",
        "X = df_na.iloc[:,1:]\n",
        "X = X.astype(int)\n",
        "\n",
        "X = sm.add_constant(X)\n",
        "\n",
        "X_train, X_test, y_train, y_test = train_test_split(X, y, test_size=0.3, random_state=0)\n",
        "\n",
        "mod = sm.OLS(y_train, X_train)\n",
        "res = mod.fit()\n",
        "print(res.summary())"
      ],
      "id": "QplkgvyWUxyh",
      "execution_count": null,
      "outputs": []
    },
    {
      "cell_type": "code",
      "metadata": {
        "id": "a-c4P-tJvPD6"
      },
      "source": [
        ""
      ],
      "id": "a-c4P-tJvPD6",
      "execution_count": 171,
      "outputs": []
    }
  ]
}